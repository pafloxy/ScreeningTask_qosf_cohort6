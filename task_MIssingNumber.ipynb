{
 "cells": [
  {
   "cell_type": "code",
   "execution_count": 1,
   "metadata": {},
   "outputs": [],
   "source": [
    "from qiskit import *\n",
    "import numpy as np\n",
    "from quantum_permutation_utils import *"
   ]
  },
  {
   "cell_type": "markdown",
   "metadata": {},
   "source": [
    "## **Task 2 : Missing Number**"
   ]
  },
  {
   "cell_type": "markdown",
   "metadata": {},
   "source": [
    "Here we will be given a list of numbers where the elements of that list will be numbers that can range from $0$ to $2^n$ for some integer 'n' in any arbitrary manner. However one particular element from the list will be missing and our aim is to find that one !"
   ]
  },
  {
   "cell_type": "markdown",
   "metadata": {},
   "source": [
    "### **Method : Quantum Approach**"
   ]
  },
  {
   "cell_type": "markdown",
   "metadata": {},
   "source": [
    "First I will explain how we can solve this problem on a quantum computer and I will approach the problem in the manner suggested in the problem description. My implementation will have the follwoing steps, first we use a QRAM like data loading process to encode the provided data into an phase oracle, next we implement a grover type search which will selectively amplify the required missing number for us ! "
   ]
  },
  {
   "cell_type": "markdown",
   "metadata": {},
   "source": [
    "#### **Algorithm**\n",
    "\n"
   ]
  },
  {
   "cell_type": "markdown",
   "metadata": {},
   "source": [
    "**Step 1:** Prepare an equal superpoition of all $2^n$ basis states in the `data-register` and $\\ket{-}$ state in the `ancilla` register.\n",
    "$$                  \\sum_{x \\in \\{1,0\\}^{n}}\\ket{x}  \\otimes  \\ket{-}\n",
    "$$\n",
    "**Step 2:** Apply a oracle operator to the `data-register` such that every basis state $\\ket{x}$ other than the missing state $\\ket{m}$ acquires a $(-1)$ phase, relatively speaking the $\\ket{m}$ will acquire a $(-1)$ phase.\n",
    "$$                \\left(  \\sum_{x \\in \\{1,0\\}^{n} / m}\\ket{x} - \\ket{m} \\right) \\otimes  \\ket{-}\n",
    "$$\n",
    "**Step 3:** Apply a diffuser operator that reflects the state about the intial equal superposition state. This step and the previous one essentially completes a grover operation whihc slecctively ampliifes the the missing state $\\ket{m}$, thus increasing the probablity of measuring it."
   ]
  },
  {
   "cell_type": "markdown",
   "metadata": {},
   "source": [
    "#### **Example**"
   ]
  },
  {
   "cell_type": "markdown",
   "metadata": {},
   "source": [
    "Here we are tyring the case of $4$ qubits, for demonstration we will randomly pop one element out if it!"
   ]
  },
  {
   "cell_type": "code",
   "execution_count": 13,
   "metadata": {},
   "outputs": [],
   "source": [
    "num = 5\n",
    "l = list(range(2**num))\n",
    "p = l.pop(np.random.randint(0,16))"
   ]
  },
  {
   "cell_type": "code",
   "execution_count": 14,
   "metadata": {},
   "outputs": [
    {
     "data": {
      "text/plain": [
       "(9, 9)"
      ]
     },
     "execution_count": 14,
     "metadata": {},
     "output_type": "execute_result"
    }
   ],
   "source": [
    "input_list = l\n",
    "num_bits = int(np.ceil(np.log2(len(input_list))))\n",
    "input_list_bin = [ format(elem, 'b').zfill(num_bits) for elem in input_list ]\n",
    "\n",
    "## initiate circuit ##\n",
    "\n",
    "qreg = QuantumRegister(num_bits, name= 'data-register')\n",
    "ancilla_2 = QuantumRegister(1, name= 'ancilla')\n",
    "qc = QuantumCircuit(qreg, ancilla_2)\n",
    "\n",
    "qc.h(qreg)\n",
    "qc.x(ancilla_2)\n",
    "qc.h(ancilla_2)\n",
    "qc.barrier()\n",
    "\n",
    "## append grover operations ##\n",
    "\n",
    "num_grover_steps = 1\n",
    "for _ in range(num_grover_steps):\n",
    "    \n",
    "    ## append oracle ##\n",
    "    for bin_str in input_list_bin:\n",
    "        # bin_str = bin_str[::-1]\n",
    "        for index, bit in enumerate(bin_str):\n",
    "            if bit == '0': qc.x(qreg[index])\n",
    "        qc.mcx(qreg, ancilla_2)    \n",
    "        for index, bit in enumerate(bin_str):\n",
    "            if bit == '0': qc.x(qreg[index])\n",
    "        qc.barrier()\n",
    "\n",
    "    ## append diffuser ##\n",
    "    qc.barrier()\n",
    "    qc.h(qreg)\n",
    "    qc.x(qreg)\n",
    "    qc.mcx(qreg, ancilla_2)\n",
    "    qc.x(qreg)\n",
    "    qc.h(qreg)    \n",
    "\n",
    "qc.barrier()\n",
    "\n",
    "\n",
    "## measure circuit ##\n",
    "counts = measure_and_plot(qc, shots=100,measure_cntrls= False, return_counts= True, decimal_count_keys= True)\n",
    "\n",
    "## find string with max counts ##\n",
    "items = list(counts.items())\n",
    "c0 = items[0]\n",
    "for c1 in items[1:] :\n",
    "    if c1[1] > c0[1]: c0 = c1\n",
    "\n",
    "c0[0], p"
   ]
  },
  {
   "cell_type": "code",
   "execution_count": 10,
   "metadata": {},
   "outputs": [
    {
     "data": {
      "image/png": "[encoded data removed]",
      "text/plain": [
       "<Figure size 504x360 with 1 Axes>"
      ]
     },
     "execution_count": 10,
     "metadata": {},
     "output_type": "execute_result"
    }
   ],
   "source": [
    "measure_and_plot(qc, shots=100,measure_cntrls= False, cntrl_specifier= 2, decimal_count_keys= True)"
   ]
  },
  {
   "cell_type": "markdown",
   "metadata": {},
   "source": [
    "#### **Discussion**\n",
    "One can easily verify that the above example is generalisable to any number of qubits. As for the grover search is concerned, since there is just one element being searched out of $2^n$ possible elements usually a single gorver operation suffices in significantly amplifying the missing state $\\ket{m}$. But incase more than one basis state are missing no. of required grover operation will vary.\n",
    "\n",
    "However, even though the above algorithm works it is not a very effecient quantum algorithm in terms of circuit depth, CNOT counts etc. For example, to implement the phase oracle we required $2^n - 1$ operations where each of them involved a gate with $n$ controls i,e in overall $\\mathcal{O}(n2^n)$ fundamental operations. Note that we can getaway by designing an phase-oracle that adds a negative phase to the $\\ket{m}$ state only and this could be achieved by a constant depth circuit, but that would involve knowing the $\\ket{m}$ beforehand, thus obliviating the aim of our algorihtm."
   ]
  },
  {
   "cell_type": "code",
   "execution_count": 6,
   "metadata": {},
   "outputs": [
    {
     "data": {
      "text/plain": [
       "98"
      ]
     },
     "execution_count": 6,
     "metadata": {},
     "output_type": "execute_result"
    }
   ],
   "source": [
    "qc.depth()"
   ]
  },
  {
   "cell_type": "markdown",
   "metadata": {},
   "source": [
    "To check if we are really having any quantum advantage we should ask if we can solve this problem any faster using classical algorithms ? To discuss more on this, next I will give some overview how a classical approach might perform better for this specific problem."
   ]
  },
  {
   "cell_type": "markdown",
   "metadata": {},
   "source": [
    "### **Method :  Classical Approach**"
   ]
  },
  {
   "cell_type": "markdown",
   "metadata": {},
   "source": [
    "Since our aim is to find a missing number out of a otherwise consecutive set of numbers we may consider sorting the array of numbers as it is and then checking for the missing element by scanning through the sorted array! \n",
    "\n",
    "Now any **comparison-based** sorting algorithm takes $\\mathcal{O}(N\\:log(N))$ iterations at max to sort a random array of size $N$, thus in our case $\\left(N = 2^n\\right)$ it will take around $\\mathcal{O}(2^n\\:n)$ steps which is same as the quantum case mentioned above. Though **integer-sorting** algorithms are usually faster than the former we won't have significant advantage as the elements to be stored are mostly consecutive. "
   ]
  },
  {
   "cell_type": "markdown",
   "metadata": {},
   "source": [
    "However if there is just one element we can take a different approach that can find the missing element in just $\\mathcal{O}(n)$ steps. I will explain the procedure with an example.\n",
    "\n",
    "Say the given list of elements is `list = [ 0, 2, 1, 4, 5, 6, 7]`,\n",
    "\n",
    "**Step 1:** Convert all elements into binary strings of suitable length ;\n",
    "            `list = [(000), (010), (001), (100), (101), (110), (111)]`, and use the index $b_0$, $b_1$ . . $b_d$ to denote the bits with $b_0$ being the Most Significant Bit `(MSB)` and $b_d$ the Least Significant Bit `(LSB)`. \n",
    "            \n",
    "**Step 2:** Starting with $b_0$, count the number of `1`s and `0`s over all the elements in the `list`. For $b_0$, there are 4 `1`s and 3 `0`s indicating that the missing element must have `0` in the $b_0$.\n",
    "\n",
    "**Step 3:** Next we repeat the **Step 2** for $b_1$ but only on the elements that have `0` in the $b_0$ ;\n",
    "`list = [(000), (010), (001)]`. In this step we have 2 `0`s and 1 `1`, indicating the missing elements has `1` in the $b_1$.\n",
    "\n",
    "**Step 4:** Finally we compare $b_2$, but only with elements that have $b_0 = $`0` and $b_1 = $`1` i.e `list = [(010)]`. Thus identifying the missing element as `(011)`. \n"
   ]
  },
  {
   "cell_type": "markdown",
   "metadata": {},
   "source": [
    "The procedure outlined above is genralisable for any number of elements. The time complexity can be calculated by noting that at each step we reduce the size of the elements in the list by half, thus comparison runs over $2^n$, $2^{n-1}$  . . so on for every iteration . Since \n",
    "$ 1 + 2 + 4 + . . . 2^n = 2^{n+1} - 1\n",
    "$,\n",
    "The algorithm takes $\\mathcal{O}(2^{n+1})$ steps thus outperforming the the quantum algorithm! "
   ]
  },
  {
   "cell_type": "markdown",
   "metadata": {},
   "source": []
  },
  {
   "cell_type": "markdown",
   "metadata": {},
   "source": []
  },
  {
   "cell_type": "markdown",
   "metadata": {},
   "source": []
  },
  {
   "cell_type": "markdown",
   "metadata": {},
   "source": []
  },
  {
   "cell_type": "markdown",
   "metadata": {},
   "source": []
  },
  {
   "cell_type": "markdown",
   "metadata": {},
   "source": []
  }
 ],
 "metadata": {
  "kernelspec": {
   "display_name": "Python 3.10.6 64-bit",
   "language": "python",
   "name": "python3"
  },
  "language_info": {
   "codemirror_mode": {
    "name": "ipython",
    "version": 3
   },
   "file_extension": ".py",
   "mimetype": "text/x-python",
   "name": "python",
   "nbconvert_exporter": "python",
   "pygments_lexer": "ipython3",
   "version": "3.10.6"
  },
  "orig_nbformat": 4,
  "vscode": {
   "interpreter": {
    "hash": "31f2aee4e71d21fbe5cf8b01ff0e069b9275f58929596ceb00d14d90e3e16cd6"
   }
  }
 },
 "nbformat": 4,
 "nbformat_minor": 2
}
